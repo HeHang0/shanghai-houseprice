{
 "cells": [
  {
   "cell_type": "code",
   "execution_count": null,
   "metadata": {},
   "outputs": [],
   "source": [
    "from urllib import request\n",
    "from urllib.parse import quote\n",
    "from urllib.error import HTTPError\n",
    "from bs4 import BeautifulSoup\n",
    "from tqdm import tqdm\n",
    "import json\n",
    "import random"
   ]
  },
  {
   "cell_type": "code",
   "execution_count": null,
   "metadata": {},
   "outputs": [],
   "source": [
    "import pandas as pd\n",
    "import numpy as np"
   ]
  },
  {
   "cell_type": "code",
   "execution_count": null,
   "metadata": {},
   "outputs": [],
   "source": [
    "import matplotlib.pyplot as plt\n",
    "%matplotlib inline"
   ]
  },
  {
   "cell_type": "markdown",
   "metadata": {},
   "source": [
    "抓取网页信息，BeautifulSoup用法参考：https://www.crummy.com/software/BeautifulSoup/bs4/doc/#attrs"
   ]
  },
  {
   "cell_type": "code",
   "execution_count": null,
   "metadata": {},
   "outputs": [],
   "source": [
    "# 区县\n",
    "def get_district(url):\n",
    "    resp = request.urlopen(url)\n",
    "    html = resp.read()\n",
    "    soup = BeautifulSoup(html, \"lxml\")\n",
    "    poi = soup.find(\"div\", attrs={\"data-role\": \"ershoufang\"})\n",
    "    district = [a[\"href\"] for a in poi.find(\"div\").find_all(\"a\")]\n",
    "    return district"
   ]
  },
  {
   "cell_type": "code",
   "execution_count": null,
   "metadata": {},
   "outputs": [],
   "source": [
    "# 板块\n",
    "def get_subdistrict(url):\n",
    "    resp = request.urlopen(url)\n",
    "    html = resp.read()\n",
    "    soup = BeautifulSoup(html, \"lxml\")\n",
    "    poi = soup.find(\"div\", attrs={\"data-role\": \"ershoufang\"})\n",
    "    subdistrict = [a[\"href\"] for a in  poi.find_all(\"div\")[1].find_all(\"a\")]\n",
    "    return subdistrict"
   ]
  },
  {
   "cell_type": "code",
   "execution_count": null,
   "metadata": {},
   "outputs": [],
   "source": [
    "# 板块内页数\n",
    "def get_totalpage(url):\n",
    "    resp = request.urlopen(url)\n",
    "    html = resp.read()\n",
    "    soup = BeautifulSoup(html, \"lxml\")\n",
    "    poi = soup.find(\"div\", class_=\"house-lst-page-box\")\n",
    "    if poi==None: return 0\n",
    "    pagedata = poi['page-data']\n",
    "    totalpage = json.loads(pagedata)['totalPage']\n",
    "    return totalpage"
   ]
  },
  {
   "cell_type": "code",
   "execution_count": null,
   "metadata": {},
   "outputs": [],
   "source": [
    "# 板块内小区概览\n",
    "def get_xiaoqu(url):\n",
    "    resp = request.urlopen(url)\n",
    "    html = resp.read()\n",
    "    soup = BeautifulSoup(html, \"lxml\")\n",
    "    poi = soup.find(\"ul\", class_=\"listContent\")\n",
    "    xiaoqu = [[l.a['href'],\n",
    "                 l.find(\"div\", class_=\"info\").find(\"div\", class_=\"title\").a.string,\n",
    "                 l.find(\"div\", class_=\"positionInfo\").a.string,\n",
    "                 l.find(\"div\", class_=\"positionInfo\").find_all(\"a\")[1].string,\n",
    "                 l.find(\"div\", class_=\"totalPrice\").span.string]\n",
    "                 for l in poi.find_all('li')]\n",
    "    return xiaoqu"
   ]
  },
  {
   "cell_type": "code",
   "execution_count": null,
   "metadata": {},
   "outputs": [],
   "source": [
    "# 小区详细信息\n",
    "def get_xiaoqudetail(url):\n",
    "    resp = request.urlopen(url)\n",
    "    html = resp.read()\n",
    "    soup = BeautifulSoup(html, \"lxml\")\n",
    "    poi = soup.find(\"div\", class_=\"xiaoquInfo\")\n",
    "    if poi==None: return None\n",
    "    detail = {}\n",
    "    detail['address'] = soup.find(\"div\", class_=\"detailDesc\").string    \n",
    "    detail['year'] = poi.find_all(\"div\", class_=\"xiaoquInfoItem\")[0].find(\"span\", class_=\"xiaoquInfoContent\").string\n",
    "    detail['style'] = poi.find_all(\"div\", class_=\"xiaoquInfoItem\")[1].find(\"span\", class_=\"xiaoquInfoContent\").string\n",
    "    detail['fee'] = poi.find_all(\"div\", class_=\"xiaoquInfoItem\")[2].find(\"span\", class_=\"xiaoquInfoContent\").string\n",
    "    detail['maintenance'] = poi.find_all(\"div\", class_=\"xiaoquInfoItem\")[3].find(\"span\", class_=\"xiaoquInfoContent\").string\n",
    "    detail['developer'] = poi.find_all(\"div\", class_=\"xiaoquInfoItem\")[4].find(\"span\", class_=\"xiaoquInfoContent\").string\n",
    "    detail['buildings'] = poi.find_all(\"div\", class_=\"xiaoquInfoItem\")[5].find(\"span\", class_=\"xiaoquInfoContent\").string\n",
    "    detail['houses'] = poi.find_all(\"div\", class_=\"xiaoquInfoItem\")[6].find(\"span\", class_=\"xiaoquInfoContent\").string\n",
    "    return detail"
   ]
  },
  {
   "cell_type": "markdown",
   "metadata": {},
   "source": [
    "上海各区"
   ]
  },
  {
   "cell_type": "code",
   "execution_count": null,
   "metadata": {},
   "outputs": [],
   "source": [
    "url_base = 'https://sh.lianjia.com'"
   ]
  },
  {
   "cell_type": "code",
   "execution_count": null,
   "metadata": {},
   "outputs": [],
   "source": [
    "%%time\n",
    "url = url_base + '/xiaoqu'\n",
    "district = get_district(url)"
   ]
  },
  {
   "cell_type": "markdown",
   "metadata": {},
   "source": [
    "去除上海周边"
   ]
  },
  {
   "cell_type": "code",
   "execution_count": null,
   "metadata": {},
   "outputs": [],
   "source": [
    "district = list(set(district) - set(['/xiaoqu/shanghaizhoubian/']))"
   ]
  },
  {
   "cell_type": "code",
   "execution_count": null,
   "metadata": {},
   "outputs": [],
   "source": [
    "print(len(district))\n",
    "district[0]"
   ]
  },
  {
   "cell_type": "markdown",
   "metadata": {},
   "source": [
    "板块"
   ]
  },
  {
   "cell_type": "code",
   "execution_count": null,
   "metadata": {},
   "outputs": [],
   "source": [
    "%%time\n",
    "district2subdistrict = {}\n",
    "subdistrict = []\n",
    "for d in district:\n",
    "    url = url_base + d\n",
    "    try:\n",
    "        result = get_subdistrict(url)\n",
    "        district2subdistrict[d] = result\n",
    "        subdistrict += result\n",
    "    except:\n",
    "        print(url)"
   ]
  },
  {
   "cell_type": "markdown",
   "metadata": {},
   "source": [
    "去重"
   ]
  },
  {
   "cell_type": "code",
   "execution_count": null,
   "metadata": {},
   "outputs": [],
   "source": [
    "print('{} unique out of {}'.format(len(set(subdistrict)), len(subdistrict)))\n",
    "subdistrict = list(set(subdistrict))\n",
    "subdistrict[0]"
   ]
  },
  {
   "cell_type": "markdown",
   "metadata": {},
   "source": [
    "小区"
   ]
  },
  {
   "cell_type": "code",
   "execution_count": null,
   "metadata": {},
   "outputs": [],
   "source": [
    "xiaoqu = []"
   ]
  },
  {
   "cell_type": "code",
   "execution_count": null,
   "metadata": {},
   "outputs": [],
   "source": [
    "pbar = tqdm(subdistrict)\n",
    "for s in pbar:\n",
    "    url = url_base + s\n",
    "    totalpage = get_totalpage(url)\n",
    "    pbar.set_description(\"{} pages:{}\".format(url, totalpage))\n",
    "    for i in range(1, totalpage + 1):\n",
    "        url_page = url + 'pg' + str(i)\n",
    "        try:\n",
    "            xiaoqu += get_xiaoqu(url_page)\n",
    "        except HTTPError:\n",
    "            print('HTTPError: {}'.format(url_page))\n",
    "pbar.close()"
   ]
  },
  {
   "cell_type": "code",
   "execution_count": null,
   "metadata": {},
   "outputs": [],
   "source": [
    "print(len(xiaoqu))\n",
    "xiaoqu[-1]"
   ]
  },
  {
   "cell_type": "markdown",
   "metadata": {},
   "source": [
    "数据清理"
   ]
  },
  {
   "cell_type": "code",
   "execution_count": null,
   "metadata": {},
   "outputs": [],
   "source": [
    "# 加入列名\n",
    "df = pd.DataFrame(xiaoqu, columns=['link','title','district','subdistrict','price'])"
   ]
  },
  {
   "cell_type": "code",
   "execution_count": null,
   "metadata": {},
   "outputs": [],
   "source": [
    "# 小区名去除括号，以便查询经纬度\n",
    "df['name'] = df.title.apply(lambda x: x.replace('(','').replace(')',''))"
   ]
  },
  {
   "cell_type": "code",
   "execution_count": null,
   "metadata": {},
   "outputs": [],
   "source": [
    "# 无单价的置0，以便转为数字格式\n",
    "df.loc[df.price=='暂无', 'price'] = 0\n",
    "df['price'] = df.price.astype(int)"
   ]
  },
  {
   "cell_type": "code",
   "execution_count": null,
   "metadata": {},
   "outputs": [],
   "source": [
    "# 单价前3强\n",
    "df.sort_values('price', ascending=False).head(3)"
   ]
  },
  {
   "cell_type": "code",
   "execution_count": null,
   "metadata": {},
   "outputs": [],
   "source": [
    "# 单价以万计，以便在地图上显示\n",
    "df['price_show'] = df.price.apply(lambda x: round(x/10000, 1))"
   ]
  },
  {
   "cell_type": "markdown",
   "metadata": {},
   "source": [
    "查询经纬度，参考：http://lbsyun.baidu.com/index.php?title=webapi/guide/webservice-geocoding"
   ]
  },
  {
   "cell_type": "code",
   "execution_count": null,
   "metadata": {},
   "outputs": [],
   "source": [
    "BAIDU_API = \"http://api.map.baidu.com/geocoder/v2/?output=json&ak={}&city={}&address={}\"\n",
    "\n",
    "def get_coord(ak, city, address):\n",
    "    url = BAIDU_API.format(ak, city, address)\n",
    "    url = quote(url, safe=':/?&=')\n",
    "    resp = request.urlopen(url)\n",
    "    j = json.loads(resp.read())\n",
    "    result = {}    \n",
    "    result['status'] = j['status']\n",
    "    if result['status']==0:  # ok\n",
    "        result['lat'] = j['result']['location']['lat']\n",
    "        result['lng'] = j['result']['location']['lng']\n",
    "        result['confidence'] = j['result']['confidence']\n",
    "        result['precise'] = j['result']['precise']\n",
    "    return result"
   ]
  },
  {
   "cell_type": "markdown",
   "metadata": {},
   "source": [
    "此处需要百度的appKey，因为每天有限额，建议自备多个appKey，同时记录超额的appKey，不重复使用"
   ]
  },
  {
   "cell_type": "code",
   "execution_count": null,
   "metadata": {},
   "outputs": [],
   "source": [
    "BAIDU_AKS = [\"ZUONbpqGBsYGXNIYHicvbAbM\"]\n",
    "aks_outQuota = []\n",
    "aks = list(set(BAIDU_AKS) - set(aks_outQuota))\n",
    "city = '上海'"
   ]
  },
  {
   "cell_type": "markdown",
   "metadata": {},
   "source": [
    "通过小区名查询经纬度"
   ]
  },
  {
   "cell_type": "code",
   "execution_count": null,
   "metadata": {},
   "outputs": [],
   "source": [
    "pbar = tqdm(df[df.lat==0].index)\n",
    "for i in pbar:\n",
    "    if len(aks)==0:\n",
    "        print('当日配额用尽，停止抓取')\n",
    "        break\n",
    "    ak = aks[random.randint(0, len(aks)-1)]\n",
    "    address = df.loc[i, 'name']\n",
    "    pbar.set_description(address)\n",
    "    result = get_coord(ak, city, address)\n",
    "    df.loc[i, 'status'] = result['status']\n",
    "    if result['status']==0:  # ok\n",
    "        df.loc[i, 'lat'] = result['lat']\n",
    "        df.loc[i, 'lng'] = result['lng']\n",
    "        df.loc[i, 'confidence'] = result['confidence']\n",
    "        df.loc[i, 'precise'] = result['precise']\n",
    "    elif str(result['status'])[0]=='3':  # 配额错误\n",
    "        aks_outQuota.append(ak)\n",
    "        aks = list(set(BAIDU_AKS) - set(aks_outQuota))\n",
    "pbar.close()"
   ]
  },
  {
   "cell_type": "markdown",
   "metadata": {},
   "source": [
    "拿一个小区出来看看，经纬度是否正常"
   ]
  },
  {
   "cell_type": "code",
   "execution_count": null,
   "metadata": {
    "scrolled": true
   },
   "outputs": [],
   "source": [
    "df_test = df[(df.subdistrict==df.subdistrict[0]) & (df.lat>0)]"
   ]
  },
  {
   "cell_type": "markdown",
   "metadata": {},
   "source": [
    "左上角的点明显离群，经纬度需要校正，用地址查询应该更准确，但先要抓取小区详细信息"
   ]
  },
  {
   "cell_type": "code",
   "execution_count": null,
   "metadata": {},
   "outputs": [],
   "source": [
    "plt.scatter(df_test.lng, df_test.lat)"
   ]
  },
  {
   "cell_type": "markdown",
   "metadata": {},
   "source": [
    "小区详细信息"
   ]
  },
  {
   "cell_type": "code",
   "execution_count": null,
   "metadata": {},
   "outputs": [],
   "source": [
    "pbar = tqdm(df.index)\n",
    "for i in pbar:\n",
    "    url = df.loc[i, 'link']\n",
    "    pbar.set_description(url)\n",
    "    df.loc[i, 'visited'] = 1\n",
    "    try:\n",
    "        detail = get_xiaoqudetail(url)\n",
    "        if detail==None: continue\n",
    "        df.loc[i, 'address'] = detail['address']\n",
    "        df.loc[i, 'year'] = detail['year']\n",
    "        df.loc[i, 'style'] = detail['style']\n",
    "        df.loc[i, 'fee'] = detail['fee']\n",
    "        df.loc[i, 'maintenance'] = detail['maintenance']\n",
    "        df.loc[i, 'developer'] = detail['developer']\n",
    "        df.loc[i, 'buildings'] = detail['buildings']\n",
    "        df.loc[i, 'houses'] = detail['houses']\n",
    "        # 抓取时会出现内存泄漏（原因未明，怀疑与https有关），可能死机，因此周期性保存结果\n",
    "        if i%1000==0: df.to_csv('xiaoqu.csv', index=False)\n",
    "    except HTTPError:\n",
    "        print('HTTPError: {}'.format(url_page))\n",
    "pbar.close()"
   ]
  },
  {
   "cell_type": "markdown",
   "metadata": {},
   "source": [
    "同一小区地址可以有多个，只选取第一个用于查询经纬度"
   ]
  },
  {
   "cell_type": "code",
   "execution_count": null,
   "metadata": {},
   "outputs": [],
   "source": [
    "df['address2'] = df.loc[~df.address.isna(),'address'].apply(lambda x: x.split(')')[1].replace('，',',').split(',')[0])"
   ]
  },
  {
   "cell_type": "markdown",
   "metadata": {},
   "source": [
    "保存结果"
   ]
  },
  {
   "cell_type": "code",
   "execution_count": null,
   "metadata": {},
   "outputs": [],
   "source": [
    "df.to_csv('xiaoqu.csv', index=False)"
   ]
  },
  {
   "cell_type": "markdown",
   "metadata": {},
   "source": [
    "通过地址查询经纬度"
   ]
  },
  {
   "cell_type": "code",
   "execution_count": null,
   "metadata": {},
   "outputs": [],
   "source": [
    "# 排除地址可能为空的记录\n",
    "pbar = tqdm(df[~df.address2.isna()].index[1732:])\n",
    "for i in pbar:\n",
    "    ak = aks[random.randint(0, len(aks)-1)]\n",
    "    address = df.loc[i, 'address2']\n",
    "    pbar.set_description(address)\n",
    "    result = get_coord(ak, city, address)\n",
    "    df.loc[i, 'status2'] = result['status']\n",
    "    if result['status']==0:  # ok\n",
    "        df.loc[i, 'lat2'] = result['lat']\n",
    "        df.loc[i, 'lng2'] = result['lng']\n",
    "        df.loc[i, 'confidence2'] = result['confidence']\n",
    "        df.loc[i, 'precise2'] = result['precise']\n",
    "    elif str(result['status'])[0]=='3':  # 配额错误\n",
    "        aks_outQuota.append(ak)\n",
    "        aks = list(set(BAIDU_AKS) - set(aks_outQuota))\n",
    "pbar.close()"
   ]
  },
  {
   "cell_type": "markdown",
   "metadata": {},
   "source": [
    "小区经纬度为空的，直接用地址经纬度替换"
   ]
  },
  {
   "cell_type": "code",
   "execution_count": null,
   "metadata": {},
   "outputs": [],
   "source": [
    "index_replace = df[(df.lat.isna()) & (df.lat2>0)].index\n",
    "df.loc[index_replace, 'lat'] = df.loc[index_replace, 'lat2']\n",
    "df.loc[index_replace, 'lng'] = df.loc[index_replace, 'lng2']"
   ]
  },
  {
   "cell_type": "markdown",
   "metadata": {},
   "source": [
    "逐个板块，观察经纬度与其中位数的距离，与四分位距离的比值，确认离群值分割点"
   ]
  },
  {
   "cell_type": "code",
   "execution_count": null,
   "metadata": {},
   "outputs": [],
   "source": [
    "subdistrict = df.subdistrict.unique()\n",
    "len(subdistrict)"
   ]
  },
  {
   "cell_type": "code",
   "execution_count": null,
   "metadata": {},
   "outputs": [],
   "source": [
    "for s in subdistrict:\n",
    "    df_test = df.loc[(df.subdistrict==s) & (df.lat>0), ['lat','lng','lat2','lng2']]\n",
    "    # 样本数过小， 不计算偏差\n",
    "    if len(df_test) < 10: continue\n",
    "    lat_m = df_test.lat.median()\n",
    "    lat_q = np.percentile(df_test.lat,[25,75])\n",
    "    lat_qd = lat_q[1] - lat_q[0]\n",
    "    lng_m = df_test.lng.median()\n",
    "    lng_q = np.percentile(df_test.lng,[25,75])\n",
    "    lng_qd = lng_q[1] - lng_q[0]\n",
    "    df.loc[df_test.index, 'lat_dev'] = df_test.lat.apply(lambda x: round(abs(x - lat_m)/lat_qd, 1))\n",
    "    df.loc[df_test.index, 'lng_dev'] = df_test.lng.apply(lambda x: round(abs(x - lng_m)/lng_qd, 1))\n",
    "    df.loc[df_test.index, 'lat2_dev'] = df_test.lat2.apply(lambda x: round(abs(x - lat_m)/lat_qd, 1))\n",
    "    df.loc[df_test.index, 'lng2_dev'] = df_test.lng2.apply(lambda x: round(abs(x - lng_m)/lng_qd, 1))"
   ]
  },
  {
   "cell_type": "markdown",
   "metadata": {},
   "source": [
    "有些比值上千，一般比值大于2就认为是离群值"
   ]
  },
  {
   "cell_type": "code",
   "execution_count": null,
   "metadata": {},
   "outputs": [],
   "source": [
    "df['lat_dev'].plot(kind='hist', logy=True)"
   ]
  },
  {
   "cell_type": "markdown",
   "metadata": {},
   "source": [
    "缩小范围，观察比值<100的分布"
   ]
  },
  {
   "cell_type": "code",
   "execution_count": null,
   "metadata": {},
   "outputs": [],
   "source": [
    "df.loc[df.lat_dev<100, 'lat_dev'].plot(kind='hist', logy=True)"
   ]
  },
  {
   "cell_type": "markdown",
   "metadata": {},
   "source": [
    "比值<10的分布，基本取到2，就能包含9成的样本"
   ]
  },
  {
   "cell_type": "code",
   "execution_count": null,
   "metadata": {},
   "outputs": [],
   "source": [
    "df.loc[df.lat_dev<10, 'lat_dev'].plot(kind='hist', logy=True)"
   ]
  },
  {
   "cell_type": "markdown",
   "metadata": {},
   "source": [
    "但比值取多少才能排除真实的离群值，对于市中心边界规整、小区集中的板块，偏离度小，比值取小了很多正常样本会被误判为离群，而对于郊区分布稀疏的小区，比值取大了离群的样本会漏判为正常，宁缺毋滥，选择观察郊区的板块，决定分割阈值"
   ]
  },
  {
   "cell_type": "code",
   "execution_count": null,
   "metadata": {
    "scrolled": true
   },
   "outputs": [],
   "source": [
    "df_test = df[(df.subdistrict=='崇明其它') & (df.lat>0)]"
   ]
  },
  {
   "cell_type": "code",
   "execution_count": null,
   "metadata": {},
   "outputs": [],
   "source": [
    "outlier = df_test[(df_test.lat_dev>2) | (df_test.lng_dev>2)]"
   ]
  },
  {
   "cell_type": "markdown",
   "metadata": {},
   "source": [
    "右下方的6个点都不是崇明，比值取2会漏掉1个离群值"
   ]
  },
  {
   "cell_type": "code",
   "execution_count": null,
   "metadata": {},
   "outputs": [],
   "source": [
    "plt.scatter(df_test.lng, df_test.lat)\n",
    "plt.scatter(outlier.lng, outlier.lat, c='r')"
   ]
  },
  {
   "cell_type": "code",
   "execution_count": null,
   "metadata": {},
   "outputs": [],
   "source": [
    "outlier = df_test[(df_test.lat_dev>1.8) | (df_test.lng_dev>1.8)]"
   ]
  },
  {
   "cell_type": "markdown",
   "metadata": {},
   "source": [
    "比值取1.8正确判断所有非崇明的小区，因此阈值选择1.8"
   ]
  },
  {
   "cell_type": "code",
   "execution_count": null,
   "metadata": {},
   "outputs": [],
   "source": [
    "plt.scatter(df_test.lng, df_test.lat)\n",
    "plt.scatter(outlier.lng, outlier.lat, c='r')"
   ]
  },
  {
   "cell_type": "markdown",
   "metadata": {},
   "source": [
    "逐个板块，筛选经纬度离群值（大于1.8倍四分位距离），若地址经纬度不离群，则替换，若地址经纬度也离群，则标记经纬度不可信"
   ]
  },
  {
   "cell_type": "code",
   "execution_count": null,
   "metadata": {},
   "outputs": [],
   "source": [
    "subdistrict = df.subdistrict.unique()"
   ]
  },
  {
   "cell_type": "code",
   "execution_count": null,
   "metadata": {},
   "outputs": [],
   "source": [
    "# 初始化经纬度可信标记\n",
    "df.loc[df.lat_dev>=0, 'coord_trusted'] = True\n",
    "# 阈值\n",
    "threshold = 1.8\n",
    "\n",
    "# 离群值\n",
    "outlier = df[(df.lat_dev > threshold) | \n",
    "             (df.lng_dev > threshold)].index\n",
    "# 选择性替换为地址经纬度\n",
    "for i in outlier:\n",
    "    # 地址经纬度不离群，选择替换\n",
    "    if df.loc[i, 'lat2_dev'] <= threshold and df.loc[i, 'lng2_dev'] <= threshold:\n",
    "        df.loc[i, 'lat'] = df.loc[i, 'lat2']\n",
    "        df.loc[i, 'lng'] = df.loc[i, 'lng2']\n",
    "    # 否则标记经纬度不可信\n",
    "    else:\n",
    "        df.loc[i, 'coord_trusted'] = False"
   ]
  },
  {
   "cell_type": "markdown",
   "metadata": {},
   "source": [
    "保存结果"
   ]
  },
  {
   "cell_type": "code",
   "execution_count": null,
   "metadata": {},
   "outputs": [],
   "source": [
    "df.to_csv('xiaoqu.csv', index=False)"
   ]
  },
  {
   "cell_type": "markdown",
   "metadata": {},
   "source": [
    "导出json，以便在地图上显示"
   ]
  },
  {
   "cell_type": "code",
   "execution_count": null,
   "metadata": {},
   "outputs": [],
   "source": [
    "jf = df[df.coord_trusted & (df.price>0)][['lng','lat','price_show','title','district','subdistrict','link']].to_dict(orient='records')\n",
    "len(jf)"
   ]
  },
  {
   "cell_type": "code",
   "execution_count": null,
   "metadata": {},
   "outputs": [],
   "source": [
    "def save_json(j, filename):\n",
    "    fp = open(filename, 'w')\n",
    "    json.dump(j, fp)\n",
    "    fp.close()"
   ]
  },
  {
   "cell_type": "code",
   "execution_count": null,
   "metadata": {},
   "outputs": [],
   "source": [
    "save_json(jf, 'xiaoqu.json')"
   ]
  }
 ],
 "metadata": {
  "kernelspec": {
   "display_name": "Python 3",
   "language": "python",
   "name": "python3"
  },
  "language_info": {
   "codemirror_mode": {
    "name": "ipython",
    "version": 3
   },
   "file_extension": ".py",
   "mimetype": "text/x-python",
   "name": "python",
   "nbconvert_exporter": "python",
   "pygments_lexer": "ipython3",
   "version": "3.6.4"
  }
 },
 "nbformat": 4,
 "nbformat_minor": 2
}
